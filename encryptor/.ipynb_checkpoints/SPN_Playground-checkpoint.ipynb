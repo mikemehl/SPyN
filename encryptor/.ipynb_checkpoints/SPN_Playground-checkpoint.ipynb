{
 "cells": [
  {
   "cell_type": "code",
   "execution_count": 1,
   "metadata": {},
   "outputs": [
    {
     "name": "stdout",
     "output_type": "stream",
     "text": [
      "b'\\x01\\x02\\x03\\x04\\x01\\x02\\x03\\x04\\x01\\x02\\x03\\x04\\x01\\x02\\x03\\x04'\n",
      "16\n",
      "[255, 238, 221, 204]\n"
     ]
    }
   ],
   "source": [
    "#Setup our key and data for testing. Print them out!\n",
    "import spn\n",
    "data = spn.samplebytes*4\n",
    "key = [0xff, 0xEE, 0xDD, 0xCC]\n",
    "print(data)\n",
    "print(len(data))\n",
    "print(key)"
   ]
  },
  {
   "cell_type": "code",
   "execution_count": 2,
   "metadata": {},
   "outputs": [
    {
     "name": "stdout",
     "output_type": "stream",
     "text": [
      "[204, 255, 238, 221]\n",
      "[221, 204, 255, 238]\n",
      "[238, 221, 204, 255]\n",
      "[255, 238, 221, 204]\n",
      "[204, 255, 238, 221]\n",
      "[221, 204, 255, 238]\n",
      "[238, 221, 204, 255]\n",
      "[255, 238, 221, 204]\n",
      "[204, 255, 238, 221]\n",
      "[221, 204, 255, 238]\n",
      "[238, 221, 204, 255]\n",
      "[255, 238, 221, 204]\n",
      "[204, 255, 238, 221]\n",
      "[221, 204, 255, 238]\n",
      "[238, 221, 204, 255]\n",
      "[255, 238, 221, 204]\n",
      "[204, 255, 238, 221]\n",
      "[221, 204, 255, 238]\n",
      "[238, 221, 204, 255]\n",
      "[255, 238, 221, 204]\n",
      "[204, 255, 238, 221]\n",
      "[221, 204, 255, 238]\n",
      "[238, 221, 204, 255]\n",
      "[255, 238, 221, 204]\n",
      "[204, 255, 238, 221]\n",
      "[221, 204, 255, 238]\n",
      "[238, 221, 204, 255]\n",
      "[255, 238, 221, 204]\n",
      "[204, 255, 238, 221]\n",
      "[221, 204, 255, 238]\n",
      "[238, 221, 204, 255]\n",
      "[255, 238, 221, 204]\n",
      "[204, 255, 238, 221]\n",
      "[221, 204, 255, 238]\n",
      "[238, 221, 204, 255]\n",
      "[255, 238, 221, 204]\n",
      "b'g\\x8e\\xcdu\\x0fP\\xa0=\\x96\\n\\xf3;\\x94n\\xdc\\xf1'\n"
     ]
    }
   ],
   "source": [
    "#Let's do one round of encryption.\n",
    "enc = spn.one_round_enc(data, key, 10)\n",
    "print(enc)"
   ]
  },
  {
   "cell_type": "code",
   "execution_count": null,
   "metadata": {},
   "outputs": [],
   "source": []
  }
 ],
 "metadata": {
  "kernelspec": {
   "display_name": "Python 3",
   "language": "python",
   "name": "python3"
  },
  "language_info": {
   "codemirror_mode": {
    "name": "ipython",
    "version": 3
   },
   "file_extension": ".py",
   "mimetype": "text/x-python",
   "name": "python",
   "nbconvert_exporter": "python",
   "pygments_lexer": "ipython3",
   "version": "3.6.4"
  }
 },
 "nbformat": 4,
 "nbformat_minor": 2
}
