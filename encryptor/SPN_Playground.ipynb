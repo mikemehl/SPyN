{
 "cells": [
  {
   "cell_type": "markdown",
   "metadata": {},
   "source": [
    "# SPN PLAYGROUND\n",
    "For testing this jimmy jam I'm writing."
   ]
  },
  {
   "cell_type": "code",
   "execution_count": null,
   "metadata": {},
   "outputs": [],
   "source": [
    "import spn"
   ]
  },
  {
   "cell_type": "code",
   "execution_count": null,
   "metadata": {},
   "outputs": [],
   "source": [
    "#Test on a single word\n",
    "data = spn.samplebytes\n",
    "print(data)\n",
    "key = [4,5,6,7]\n",
    "key = [22, 23]*2\n",
    "enc = spn.one_stage_enc(data, key)\n",
    "print(enc)\n",
    "#Is this guy the problem????\n",
    "#Something's not right here.\n",
    "dec = spn.one_stage_dec(enc, key)\n",
    "print(dec)"
   ]
  },
  {
   "cell_type": "code",
   "execution_count": null,
   "metadata": {},
   "outputs": [],
   "source": [
    "#Setup our key and data for testing. Print them out!\n",
    "\n",
    "data = spn.samplebytes*4\n",
    "key = [0xff, 0xEE, 0xDD, 0xCC]\n",
    "print(data)\n",
    "print(len(data))\n",
    "print(key)"
   ]
  },
  {
   "cell_type": "code",
   "execution_count": null,
   "metadata": {
    "scrolled": false
   },
   "outputs": [],
   "source": [
    "#Let's do one round of encryption.\n",
    "enc = spn.one_round_enc(data, key, 10)\n",
    "print(enc)"
   ]
  },
  {
   "cell_type": "code",
   "execution_count": null,
   "metadata": {},
   "outputs": [],
   "source": [
    "#Does decryption work?\n",
    "# ...no. Let's fix that.\n",
    "dec = spn.one_round_dec(enc, key, 10)\n",
    "print(dec)"
   ]
  },
  {
   "cell_type": "code",
   "execution_count": null,
   "metadata": {},
   "outputs": [],
   "source": []
  }
 ],
 "metadata": {
  "kernelspec": {
   "display_name": "Python 3",
   "language": "python",
   "name": "python3"
  },
  "language_info": {
   "codemirror_mode": {
    "name": "ipython",
    "version": 3
   },
   "file_extension": ".py",
   "mimetype": "text/x-python",
   "name": "python",
   "nbconvert_exporter": "python",
   "pygments_lexer": "ipython3",
   "version": "3.6.4"
  }
 },
 "nbformat": 4,
 "nbformat_minor": 2
}
