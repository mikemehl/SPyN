{
 "cells": [
  {
   "cell_type": "markdown",
   "metadata": {},
   "source": [
    "# SPN PLAYGROUND\n",
    "For testing this jimmy jam I'm writing."
   ]
  },
  {
   "cell_type": "code",
   "execution_count": 1,
   "metadata": {},
   "outputs": [
    {
     "name": "stdout",
     "output_type": "stream",
     "text": [
      "b'\\x01\\x02\\x03\\x04\\x01\\x02\\x03\\x04\\x01\\x02\\x03\\x04\\x01\\x02\\x03\\x04'\n",
      "16\n",
      "[255, 238, 221, 204]\n"
     ]
    }
   ],
   "source": [
    "#Setup our key and data for testing. Print them out!\n",
    "import spn\n",
    "data = spn.samplebytes*4\n",
    "key = [0xff, 0xEE, 0xDD, 0xCC]\n",
    "print(data)\n",
    "print(len(data))\n",
    "print(key)"
   ]
  },
  {
   "cell_type": "code",
   "execution_count": 2,
   "metadata": {
    "scrolled": false
   },
   "outputs": [
    {
     "name": "stdout",
     "output_type": "stream",
     "text": [
      "[238, 221, 204, 255]\n",
      "[221, 204, 255, 238]\n",
      "[204, 255, 238, 221]\n",
      "[255, 238, 221, 204]\n",
      "[238, 221, 204, 255]\n",
      "[221, 204, 255, 238]\n",
      "[204, 255, 238, 221]\n",
      "[255, 238, 221, 204]\n",
      "[238, 221, 204, 255]\n",
      "[221, 204, 255, 238]\n",
      "[204, 255, 238, 221]\n",
      "[255, 238, 221, 204]\n",
      "[238, 221, 204, 255]\n",
      "[221, 204, 255, 238]\n",
      "[204, 255, 238, 221]\n",
      "[255, 238, 221, 204]\n",
      "[238, 221, 204, 255]\n",
      "[221, 204, 255, 238]\n",
      "[204, 255, 238, 221]\n",
      "[255, 238, 221, 204]\n",
      "[238, 221, 204, 255]\n",
      "[221, 204, 255, 238]\n",
      "[204, 255, 238, 221]\n",
      "[255, 238, 221, 204]\n",
      "[238, 221, 204, 255]\n",
      "[221, 204, 255, 238]\n",
      "[204, 255, 238, 221]\n",
      "[255, 238, 221, 204]\n",
      "[238, 221, 204, 255]\n",
      "[221, 204, 255, 238]\n",
      "[204, 255, 238, 221]\n",
      "[255, 238, 221, 204]\n",
      "[238, 221, 204, 255]\n",
      "[221, 204, 255, 238]\n",
      "[204, 255, 238, 221]\n",
      "[255, 238, 221, 204]\n",
      "b'\\xf2\\x91r\\x95\\x8c\\x9c\\xc8/S24\\xae\\xc5[\\xb6\\x81'\n"
     ]
    }
   ],
   "source": [
    "#Let's do one round of encryption.\n",
    "enc = spn.one_round_enc(data, key, 10)\n",
    "print(enc)"
   ]
  },
  {
   "cell_type": "code",
   "execution_count": null,
   "metadata": {},
   "outputs": [],
   "source": []
  }
 ],
 "metadata": {
  "kernelspec": {
   "display_name": "Python 3",
   "language": "python",
   "name": "python3"
  },
  "language_info": {
   "codemirror_mode": {
    "name": "ipython",
    "version": 3
   },
   "file_extension": ".py",
   "mimetype": "text/x-python",
   "name": "python",
   "nbconvert_exporter": "python",
   "pygments_lexer": "ipython3",
   "version": "3.6.4"
  }
 },
 "nbformat": 4,
 "nbformat_minor": 2
}
