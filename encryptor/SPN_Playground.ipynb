{
 "cells": [
  {
   "cell_type": "markdown",
   "metadata": {},
   "source": [
    "# SPN PLAYGROUND\n",
    "For testing this jimmy jam I'm writing."
   ]
  },
  {
   "cell_type": "code",
   "execution_count": 3,
   "metadata": {},
   "outputs": [],
   "source": [
    "import spn"
   ]
  },
  {
   "cell_type": "code",
   "execution_count": 4,
   "metadata": {},
   "outputs": [
    {
     "name": "stdout",
     "output_type": "stream",
     "text": [
      "b'\\x01\\x02\\x03\\x04'\n",
      "b'\\x8b\\xa4\\x8dn'\n",
      "b'\\x01\\x02\\x03\\x04'\n",
      "True\n"
     ]
    }
   ],
   "source": [
    "#Test on a single word\n",
    "data = spn.samplebytes\n",
    "print(data)\n",
    "key = [4,5,6,7]\n",
    "key = [22, 23, 48, 255]\n",
    "enc = spn.one_stage_enc(data, key)\n",
    "print(enc)\n",
    "dec = spn.one_stage_dec(enc, key)\n",
    "print(dec)\n",
    "print(dec == data)"
   ]
  },
  {
   "cell_type": "code",
   "execution_count": 6,
   "metadata": {},
   "outputs": [
    {
     "name": "stdout",
     "output_type": "stream",
     "text": [
      "b'\\x01\\x02\\x03\\x04\\x01\\x02\\x03\\x04\\x01\\x02\\x03\\x04\\x01\\x02\\x03\\x04'\n",
      "16\n",
      "[255, 238, 221, 204]\n"
     ]
    }
   ],
   "source": [
    "#Setup our key and data for testing. Print them out!\n",
    "\n",
    "data = spn.samplebytes*4\n",
    "key = [0xff, 0xEE, 0xDD, 0xCC]\n",
    "print(data)\n",
    "print(len(data))\n",
    "print(key)"
   ]
  },
  {
   "cell_type": "code",
   "execution_count": 7,
   "metadata": {
    "scrolled": false
   },
   "outputs": [
    {
     "name": "stdout",
     "output_type": "stream",
     "text": [
      "b'\\xf4\\rv\\xbe\\xf4\\rv\\xbe\\xf4\\rv\\xbe\\xf4\\rv\\xbe'\n"
     ]
    }
   ],
   "source": [
    "#Let's do 10 rounds of encryption.\n",
    "enc = spn.one_round_enc(data, key, 10)\n",
    "print(enc)"
   ]
  },
  {
   "cell_type": "code",
   "execution_count": 8,
   "metadata": {},
   "outputs": [
    {
     "name": "stdout",
     "output_type": "stream",
     "text": [
      "b'\\x01\\x02\\x03\\x04\\x01\\x02\\x03\\x04\\x01\\x02\\x03\\x04\\x01\\x02\\x03\\x04'\n",
      "True\n"
     ]
    }
   ],
   "source": [
    "#Does decryption work?\n",
    "#Yes.\n",
    "dec = spn.one_round_dec(enc, key, 10)\n",
    "print(dec)\n",
    "print(dec == data)"
   ]
  },
  {
   "cell_type": "code",
   "execution_count": 9,
   "metadata": {},
   "outputs": [
    {
     "name": "stdout",
     "output_type": "stream",
     "text": [
      "[238, 221, 204, 255]\n",
      "[221, 204, 255, 238]\n",
      "[204, 255, 238, 221]\n",
      "[255, 238, 221, 204]\n",
      "b'Y\\x9a#\\x0fA%g\\x1fE\\x94\\x01\\xfb\\xf4\\rv\\xbe'\n",
      "[238, 221, 204, 255]\n",
      "[221, 204, 255, 238]\n",
      "[204, 255, 238, 221]\n",
      "[255, 238, 221, 204]\n",
      "b'\\x01\\x02\\x03\\x04\\x01\\x02\\x03\\x04\\x01\\x02\\x03\\x04\\x01\\x02\\x03\\x04'\n",
      "b'\\x01\\x02\\x03\\x04\\x01\\x02\\x03\\x04\\x01\\x02\\x03\\x04\\x01\\x02\\x03\\x04'\n",
      "True\n"
     ]
    }
   ],
   "source": [
    "#Alright, let's try out wrapper that rotates the key.\n",
    "enc = spn.encrypt(data, key, 10)\n",
    "print(enc)\n",
    "dec = spn.decrypt(enc, key, 10)\n",
    "print(dec)\n",
    "print(data)\n",
    "print(dec == data)"
   ]
  },
  {
   "cell_type": "code",
   "execution_count": null,
   "metadata": {},
   "outputs": [],
   "source": []
  }
 ],
 "metadata": {
  "kernelspec": {
   "display_name": "Python 3",
   "language": "python",
   "name": "python3"
  },
  "language_info": {
   "codemirror_mode": {
    "name": "ipython",
    "version": 3
   },
   "file_extension": ".py",
   "mimetype": "text/x-python",
   "name": "python",
   "nbconvert_exporter": "python",
   "pygments_lexer": "ipython3",
   "version": "3.6.4"
  }
 },
 "nbformat": 4,
 "nbformat_minor": 2
}
