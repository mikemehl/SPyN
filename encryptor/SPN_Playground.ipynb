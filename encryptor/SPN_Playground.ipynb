{
 "cells": [
  {
   "cell_type": "markdown",
   "metadata": {},
   "source": [
    "# SPN PLAYGROUND\n",
    "For testing this jimmy jam I'm writing."
   ]
  },
  {
   "cell_type": "code",
   "execution_count": null,
   "metadata": {},
   "outputs": [],
   "source": [
    "import spn"
   ]
  },
  {
   "cell_type": "code",
   "execution_count": null,
   "metadata": {},
   "outputs": [],
   "source": [
    "#Test on a single word\n",
    "data = spn.samplebytes[:16]\n",
    "print(data)\n",
    "key = [4,5,6,7]\n",
    "key = [22, 23, 48, 255]*4\n",
    "enc = spn.one_stage_enc(data, key)\n",
    "print(enc)\n",
    "dec = spn.one_stage_dec(enc, key)\n",
    "print(dec)\n",
    "print(dec == data)"
   ]
  },
  {
   "cell_type": "code",
   "execution_count": null,
   "metadata": {},
   "outputs": [],
   "source": [
    "#Setup our key and data for testing. Print them out!\n",
    "\n",
    "data = spn.samplebytes\n",
    "key = [0xff, 0xEE, 0xDD, 0xCC]*4\n",
    "print(data)\n",
    "print(len(data))\n",
    "print(key)"
   ]
  },
  {
   "cell_type": "code",
   "execution_count": null,
   "metadata": {
    "scrolled": false
   },
   "outputs": [],
   "source": [
    "#Let's do 10 rounds of encryption.\n",
    "enc = spn.one_round_enc(data, key, 10)\n",
    "print(enc)"
   ]
  },
  {
   "cell_type": "code",
   "execution_count": null,
   "metadata": {},
   "outputs": [],
   "source": [
    "#Does decryption work?\n",
    "#Yes.\n",
    "dec = spn.one_round_dec(enc, key, 10)\n",
    "print(dec)\n",
    "print(dec == data)"
   ]
  },
  {
   "cell_type": "code",
   "execution_count": null,
   "metadata": {},
   "outputs": [],
   "source": [
    "#Alright, let's try out wrapper that rotates the key.\n",
    "print(\"ORIGINAL DATA: \\n\",data)\n",
    "enc = spn.encrypt(data, key, 10)\n",
    "print(\"ENCRYPTED DATA: \\n\", enc)\n",
    "dec = spn.decrypt(enc, key, 10)\n",
    "print(\"DECRYPTED DATA: \\n\", dec)\n",
    "print(\"ARE THEY EQUAL?\", dec == data)"
   ]
  },
  {
   "cell_type": "code",
   "execution_count": null,
   "metadata": {},
   "outputs": [],
   "source": [
    "#File test\n",
    "testfile = open('test.dat', 'wb')\n",
    "for i in range(0, 2**14):\n",
    "    testfile.write(spn.samplebytes)\n",
    "testfile.close()\n",
    "print(\"Beginning encryption.\")\n",
    "spn.encrypt_file('test.dat', 'enc.dat', key, 10)\n",
    "print(\"Beginning decryption.\")\n",
    "spn.decrypt_file('enc.dat', 'dec.dat', key, 10)\n",
    "print(\"Checking that data matches.\")\n",
    "original = open('test.dat', 'rb')\n",
    "jumbled = open('dec.dat', 'rb')\n",
    "origbyte = original.read(1)\n",
    "jumbledbyte = jumbled.read(1)\n",
    "same = True\n",
    "while origbyte and jumbledbyte:\n",
    "    if origbyte != jumbledbyte:\n",
    "        same = False\n",
    "    origbyte = original.read(1)\n",
    "    jumbledbyte = jumbled.read(1)\n",
    "print(\"Did your encryption work?.....\", same)\n",
    "original.close()\n",
    "jumbled.close()"
   ]
  },
  {
   "cell_type": "code",
   "execution_count": null,
   "metadata": {},
   "outputs": [],
   "source": []
  }
 ],
 "metadata": {
  "kernelspec": {
   "display_name": "Python 3",
   "language": "python",
   "name": "python3"
  },
  "language_info": {
   "codemirror_mode": {
    "name": "ipython",
    "version": 3
   },
   "file_extension": ".py",
   "mimetype": "text/x-python",
   "name": "python",
   "nbconvert_exporter": "python",
   "pygments_lexer": "ipython3",
   "version": "3.6.4"
  }
 },
 "nbformat": 4,
 "nbformat_minor": 2
}
